{
 "cells": [
  {
   "cell_type": "markdown",
   "metadata": {},
   "source": [
    "# Repaso del lenguaje de programación Python\n",
    "\n",
    "Diego Fernando Marin"
   ]
  },
  {
   "cell_type": "markdown",
   "metadata": {},
   "source": [
    "# Comentarios\n",
    "El código bien escrito es auto-explicativo, pero siempre ha espacio para agregar comentarios que faciliten la labor de quien debe modificarlo en el futuro (incluyendo al mismo autor). En Python los comentarios se crean con del carácter _sharp_ `#`. \n",
    "\n",
    "Un buen comentario, debe:\n",
    "- ser una oración completa, aunque breve.\n",
    "- ser un reflejo de pensamiento, así después cuando vuelvas a leer tu código sabrás que pensabas al momento de escribirlo.\n",
    "- explicar tu pensamiento, así otros podrán entender que enfoque utilizaste al escribir tu código.\n",
    "- explicar partes difíciles de tu código, en detalle.\n",
    "- explicar porque decidiste escribir el código de esta forma, si hay otras maneras de hacerlo.\n",
    "\n",
    "Los comentarios no son para:\n",
    "- Decir cosas que son obvias → ```total = 100 # el total es 100```\n",
    "- DRY, no WET → Don't Repeat Yourself, no Wasted Everyone's Time\n",
    "- Resolver problemas del código, no hay suficientes comentarios que pueda explicar código mal escrito\n",
    "- Pasar la responsabilidad a otro → ```# Esto no funciona, @jperez lo daño, que él lo arregle!```\n",
    "\n",
    "Escribir buenos comentarios es una señal indiscutible de los buenos programadores. "
   ]
  },
  {
   "cell_type": "code",
   "execution_count": 1,
   "metadata": {},
   "outputs": [
    {
     "name": "stdout",
     "output_type": "stream",
     "text": [
      "Yumbo No hay familias\n"
     ]
    }
   ],
   "source": [
    "# Pruebe ajuster el siguiente código para que sea más entendible,\n",
    "# por ejemplo, utilizando comentarios significativos\n",
    "\n",
    "# Diccionario de las familias que viven en cada ciudad\n",
    "familia_en_ciudad = {\n",
    "    \"Cali\": [\"Perez\", \"Lopez\", \"Velez\"],\n",
    "    \"Palmira\": [\"Bonilla\", \"Botero\"], \n",
    "    \"Yumbo\": [],\n",
    "    \"Jamundi\": [\"Alvarez\"]\n",
    "}\n",
    "\n",
    "# En que ciudades no hay familias?\n",
    "def ciudades_sin_familia(ciudades):\n",
    "    # recorre cada ciudad\n",
    "    for ciudad in ciudades:\n",
    "        # si no hay familias en la ciudad\n",
    "        if not ciudades[ciudad]:\n",
    "            # muestra un mensaje indicando que no hay familias\n",
    "            print(ciudad, \"No hay familias\")\n",
    "\n",
    "# Main\n",
    "ciudades_sin_familia(familia_en_ciudad)"
   ]
  },
  {
   "cell_type": "markdown",
   "metadata": {},
   "source": [
    "# Nombres de las Variables\n",
    "Los nombres de las variables:\n",
    "- solo pueden contener letras, números y el carácter de subrayado `_`.\n",
    "- pueden iniciar solo con una letra, o un carácter de subrayado, no puede iniciar con número.\n",
    "- no pueden contener espacios.\n",
    "- no puede ser una palabra reservada de Python.\n",
    "- deben ser descriptivos, sin ser muy largos.\n",
    "\n",
    "Algunos ejemplos:\n",
    "```python\n",
    "precio_unitario = 34.5\n",
    "subTotal = 83474\n",
    "Nombre_Real = \"San Cipriano\"\n",
    "```"
   ]
  },
  {
   "cell_type": "code",
   "execution_count": 2,
   "metadata": {},
   "outputs": [],
   "source": [
    "# Pruebe crear variables con nombres válidos\n",
    "Primer_nombre = \"Julian\"\n",
    "Primer_apellido = \"valencia\"\n",
    "edad = 30\n",
    "montototal = 5900000\n",
    "documento = \"cedula.csv\""
   ]
  },
  {
   "cell_type": "markdown",
   "metadata": {},
   "source": [
    "# Cadenas\n",
    "Las cadenas son secuencias de carácteres, pueden definirse dentro de comillas simples `'` o comillas dobles `\"`.\n",
    "```python\n",
    "descripcion = \"Esta es una cadena entre comillas dobles\"\n",
    "otra = 'Esta es otra cadena entre comillas simples'\n",
    "```\n",
    "Eso nos permite usar las comillas dentro de una cadena.\n",
    "```python\n",
    "simples = \"Esta es una cadena contiene 'comillas simples'\"\n",
    "dobles = 'Mientras esta cadena contiene \"comillas simples\"'\n",
    "```\n",
    "Para ver los métodos disponibles en cualquier objeto usamos `dir()`, en este caso una cadena:\n",
    "```python\n",
    "dir(str)\n",
    "```"
   ]
  },
  {
   "cell_type": "code",
   "execution_count": 3,
   "metadata": {},
   "outputs": [],
   "source": [
    "# Pruebe crear cadenas, combinando comillas simples y dobles\n",
    "prueba = \"La prueba de que funciona 'Funciono'\"\n",
    "prueba_2 = 'La prueba de que funciona \"Funciono\"'"
   ]
  },
  {
   "cell_type": "code",
   "execution_count": 6,
   "metadata": {},
   "outputs": [
    {
     "data": {
      "text/plain": [
       "['__add__',\n",
       " '__class__',\n",
       " '__contains__',\n",
       " '__delattr__',\n",
       " '__dir__',\n",
       " '__doc__',\n",
       " '__eq__',\n",
       " '__format__',\n",
       " '__ge__',\n",
       " '__getattribute__',\n",
       " '__getitem__',\n",
       " '__getnewargs__',\n",
       " '__gt__',\n",
       " '__hash__',\n",
       " '__init__',\n",
       " '__init_subclass__',\n",
       " '__iter__',\n",
       " '__le__',\n",
       " '__len__',\n",
       " '__lt__',\n",
       " '__mod__',\n",
       " '__mul__',\n",
       " '__ne__',\n",
       " '__new__',\n",
       " '__reduce__',\n",
       " '__reduce_ex__',\n",
       " '__repr__',\n",
       " '__rmod__',\n",
       " '__rmul__',\n",
       " '__setattr__',\n",
       " '__sizeof__',\n",
       " '__str__',\n",
       " '__subclasshook__',\n",
       " 'capitalize',\n",
       " 'casefold',\n",
       " 'center',\n",
       " 'count',\n",
       " 'encode',\n",
       " 'endswith',\n",
       " 'expandtabs',\n",
       " 'find',\n",
       " 'format',\n",
       " 'format_map',\n",
       " 'index',\n",
       " 'isalnum',\n",
       " 'isalpha',\n",
       " 'isascii',\n",
       " 'isdecimal',\n",
       " 'isdigit',\n",
       " 'isidentifier',\n",
       " 'islower',\n",
       " 'isnumeric',\n",
       " 'isprintable',\n",
       " 'isspace',\n",
       " 'istitle',\n",
       " 'isupper',\n",
       " 'join',\n",
       " 'ljust',\n",
       " 'lower',\n",
       " 'lstrip',\n",
       " 'maketrans',\n",
       " 'partition',\n",
       " 'replace',\n",
       " 'rfind',\n",
       " 'rindex',\n",
       " 'rjust',\n",
       " 'rpartition',\n",
       " 'rsplit',\n",
       " 'rstrip',\n",
       " 'split',\n",
       " 'splitlines',\n",
       " 'startswith',\n",
       " 'strip',\n",
       " 'swapcase',\n",
       " 'title',\n",
       " 'translate',\n",
       " 'upper',\n",
       " 'zfill']"
      ]
     },
     "execution_count": 6,
     "metadata": {},
     "output_type": "execute_result"
    }
   ],
   "source": [
    "# Pruebe ver el listado de métodos de una cadena\n",
    "dir(str)"
   ]
  },
  {
   "cell_type": "code",
   "execution_count": 4,
   "metadata": {},
   "outputs": [
    {
     "name": "stdout",
     "output_type": "stream",
     "text": [
      "Primer_apellido\t Primer_nombre\t ciudades_sin_familia\t documento\t edad\t familia_en_ciudad\t montototal\t prueba\t prueba_2\t \n",
      "\n"
     ]
    }
   ],
   "source": [
    "# Pruebe algunos de esos métodos, sobre las cadenas que creaste previamente\n",
    "%who"
   ]
  },
  {
   "cell_type": "code",
   "execution_count": 5,
   "metadata": {},
   "outputs": [
    {
     "name": "stdout",
     "output_type": "stream",
     "text": [
      "JULIAN\n"
     ]
    }
   ],
   "source": [
    "# Pruebe algunos de esos métodos, sobre las cadenas que creaste previamente\n",
    "print(Primer_nombre.upper())\n"
   ]
  },
  {
   "cell_type": "markdown",
   "metadata": {},
   "source": [
    "# Enteros\n",
    "\n",
    "Las operaciones básicas con números enteros son suma `+`, resta`-`, multiplicación `*`, división `/` y exponenciación `**`."
   ]
  },
  {
   "cell_type": "code",
   "execution_count": 6,
   "metadata": {},
   "outputs": [
    {
     "name": "stdout",
     "output_type": "stream",
     "text": [
      "8\n",
      "30\n"
     ]
    }
   ],
   "source": [
    "# Pruebe crear algunas variables enteras y realice operaciones con ellas\n",
    "var1 = 5\n",
    "var2 = 3\n",
    "resultado = var1 + var2\n",
    "print(resultado)\n",
    "print(5*6)\n"
   ]
  },
  {
   "cell_type": "code",
   "execution_count": null,
   "metadata": {},
   "outputs": [],
   "source": []
  },
  {
   "cell_type": "code",
   "execution_count": 7,
   "metadata": {},
   "outputs": [
    {
     "name": "stdout",
     "output_type": "stream",
     "text": [
      "100\n",
      "3\n"
     ]
    }
   ],
   "source": [
    "res1 = 10 ** 2\n",
    "res2 = 9//3\n",
    "print(res1)\n",
    "print(res2)"
   ]
  },
  {
   "cell_type": "markdown",
   "metadata": {},
   "source": [
    "# Números de punto flotante\n",
    "\n",
    "Cualquier operación numérica que incluye valores con decimales, dará como resultado un número de punto flotante."
   ]
  },
  {
   "cell_type": "code",
   "execution_count": 8,
   "metadata": {},
   "outputs": [
    {
     "data": {
      "text/plain": [
       "420.25"
      ]
     },
     "execution_count": 8,
     "metadata": {},
     "output_type": "execute_result"
    }
   ],
   "source": [
    "# Pruebe crear algunas variables con números de punto flotante y realice operaciones con ellas\n",
    "20.5**2"
   ]
  },
  {
   "cell_type": "markdown",
   "metadata": {},
   "source": [
    "# Leyendo valores\n",
    "\n",
    "En Python es posible leer valores del usuario usando `input()`:\n",
    "\n",
    "```python\n",
    "nombre = input()  # sin ningún mensaje\n",
    "nombre = input(\"Digite su nombre : \")\n",
    "cantidad = int(input(\"Cantidad? \"))\n",
    "precio = float(input(\"Precio? \"))\n",
    "\n",
    "```"
   ]
  },
  {
   "cell_type": "code",
   "execution_count": 1,
   "metadata": {},
   "outputs": [
    {
     "name": "stdout",
     "output_type": "stream",
     "text": [
      "digite su cedula : 1116438948\n",
      "digite su edad:30\n",
      "animal favorito: perro\n"
     ]
    }
   ],
   "source": [
    "# Pruebe leer algunos datos del usuario, como el nombre completo, la edad y la fruta favorita\n",
    "cedula = input(\"digite su cedula : \")\n",
    "edad = int(input(\"digite su edad:\"))\n",
    "animal = input(\"animal favorito: \")"
   ]
  },
  {
   "cell_type": "markdown",
   "metadata": {},
   "source": [
    "# Escribiendo Mensajes\n",
    "\n",
    "En Python hay tres formas para escribir mensajes con datos variables:\n",
    "\n",
    "```python\n",
    "# Algunas variables para los ejemplos:\n",
    "nombre = 'Paola'\n",
    "planeta = 'Marte'\n",
    "producto = 'Pepsi'\n",
    "precio = 2499.9999\n",
    "cod_ciudad = 76001\n",
    "nom_ciudad = 'Cali'\n",
    "cod_depto = 76\n",
    "nom_depto = 'Valle'\n",
    "```\n",
    "\n",
    "## Usando el operador `%`\n",
    "```python\n",
    "print('Hola, %s saludos desde %s' % (nombre, planeta))\n",
    "print(\"El precio de una %s es %.2f\" % (producto, precio))\n",
    "print('El rango es [%+d,%+d]' % (-34, 64))\n",
    "print('|%-10s|%-10s|%10d|' % (nom_ciudad, nom_depto, cod_ciudad))\n",
    "```\n",
    "\n",
    "## Usando el método `format`\n",
    "```python\n",
    "print('Hola, {} saludos desde {}'.format(nombre, planeta))\n",
    "print(\"El precio de una {} es {:.2f}\".format(producto, precio))\n",
    "print('El rango es [{:+d},{:+d}]'.format(-34, 64))\n",
    "print('|{:<10s}|{:<10s}|{:10d}|'.format(nom_ciudad, nom_depto, cod_ciudad))\n",
    "```\n",
    "\n",
    "## Usando _F-Strings_\n",
    "```python\n",
    "print(f'Hola, {nombre} saludos desde {planeta}')\n",
    "print(f\"El precio de una {producto} es {precio:.2f}\")\n",
    "print(f'El rango es [{-34:+d},{64:+d}]')\n",
    "print(f'|{nom_ciudad:<10s}|{nom_depto:<10s}|{cod_ciudad:10d}|')\n",
    "```\n"
   ]
  },
  {
   "cell_type": "code",
   "execution_count": null,
   "metadata": {},
   "outputs": [],
   "source": [
    "# Cree variables para almacenar sus nombres y sus apellidos (por separado),\n",
    "# su fecha y ciudad de nacimiento, el programa y semestre que cursa\n",
    "\n",
    "# Pruebe escribir el siguiente mensaje (con sus variables):\n",
    "# Hola, soy Juan Perez, vivo en Cali y nací el 1-ene-2000, ahora estudio Derecho y estoy en 3 semestre.\n",
    "\n",
    "# Muestre el mensaje usando el operador %\n",
    "\n",
    "# Muestre el mensaje usando el método format\n",
    "\n",
    "# Muestre el mensaje usando F-strings\n"
   ]
  },
  {
   "cell_type": "markdown",
   "metadata": {},
   "source": [
    "# Condicionales\n",
    "\n",
    "Una condicional es una estructura de control que cambia la secuencia de ejecución del programa, según el resultado de una expresión lógica (cuyo valor solo puede ser verdadero `True` o falso `False`)\n",
    "\n",
    "La forma más básica de condicional, tiene un bloque que solo se ejecuta si el resultado es `True`:\n",
    "```python\n",
    "# si el valor es menor a 50 escriba el mensaje\n",
    "if val < 50:\n",
    "    print(\"está dentro del rango\")\n",
    "```\n",
    "\n",
    "La condicional también puede tener un bloque que se ejecuta cuando el resultado es `False`:\n",
    "```python\n",
    "# si el valor es menor a 50 escriba el mensaje, sino escriba otro mensaje\n",
    "if val < 50:\n",
    "    print(\"está dentro del rango\")\n",
    "else:\n",
    "    print(\"no está en el rango\")\n",
    "```"
   ]
  },
  {
   "cell_type": "code",
   "execution_count": 6,
   "metadata": {},
   "outputs": [
    {
     "ename": "IndentationError",
     "evalue": "expected an indented block (<ipython-input-6-bc3cd06fac7d>, line 9)",
     "output_type": "error",
     "traceback": [
      "\u001b[0;36m  File \u001b[0;32m\"<ipython-input-6-bc3cd06fac7d>\"\u001b[0;36m, line \u001b[0;32m9\u001b[0m\n\u001b[0;31m    print(f\"{nombre} es menor de edad\")\u001b[0m\n\u001b[0m    ^\u001b[0m\n\u001b[0;31mIndentationError\u001b[0m\u001b[0;31m:\u001b[0m expected an indented block\n"
     ]
    }
   ],
   "source": [
    "# Pruebe pedir el nombre y la edad al usuario, y muestre un mensaje indicando si es menor o mayor de edad\n",
    "nomnbre = input(\"registrar su nombre:\")\n",
    "edad = int(input(\"digite su edad:\"))\n",
    "if edad >= 18:\n",
    "    print (f\"{nombre} es mayor de edad \")\n",
    "    \n",
    "else:\n",
    "\n",
    "print(f\"{nombre} es menor de edad\")"
   ]
  },
  {
   "cell_type": "code",
   "execution_count": 7,
   "metadata": {},
   "outputs": [
    {
     "name": "stdout",
     "output_type": "stream",
     "text": [
      "Digite el valor del producto30000\n",
      "el producto tiene ivasi\n",
      "Ingrese el porcentaje30\n",
      "El valor del producto es 930000.0\n"
     ]
    }
   ],
   "source": [
    "# Pruebe preguntar el precio de un producto\n",
    "precio = float(input(\"Digite el valor del producto\"))\n",
    "valortotal = precio\n",
    "# pregunte si tiene IVA\n",
    "iva = input(\"el producto tiene iva\")\n",
    "\n",
    "# si tiene IVA? pregunte el porcentaje y calcule el valor total\n",
    "if iva.lower() == \"si\":\n",
    "    porcentajeIva = float(input(\"Ingrese el porcentaje\"))\n",
    "    valortotal = (precio*porcentajeIva)+precio\n",
    "# muestre el valor total a pagar\n",
    "print(f\"El valor del producto es {valortotal}\")"
   ]
  },
  {
   "cell_type": "markdown",
   "metadata": {},
   "source": [
    "# Ciclos\n",
    "\n",
    "## Cuando es una cantidad conocida de repeticiones:\n",
    "\n",
    "Un ciclo `for` es útil, cuando con anticipación conocemos la cantidad de veces que debe repetirse el ciclo. Bien sea porque el valor es fijo, o porque se puede calcular antes del ciclo.\n",
    "```python\n",
    "for indice in range(0, 10):\n",
    "    print(indice)\n",
    "```\n",
    "\n",
    "## Cuando es una cantidad desconocida de repeticiones:\n",
    "\n",
    "Un ciclo `while` es útil, cuando no sabemos cuantas veces debe repetirse el ciclo, pero sabemos que condición se debe cumplir para parar.\n",
    "\n",
    "```python\n",
    "continuar = True\n",
    "while continuar:\n",
    "    resp = input('Desea continuar? ')\n",
    "    if resp != 's':\n",
    "        continuar = False\n",
    "```\n",
    "\n",
    "Aunque usando ```while``` también se puede implementar un ciclo donde conozco la cantidad de repeticiones:\n",
    "```python\n",
    "indice = 0\n",
    "while indice < 10:\n",
    "    print(indice)\n",
    "    indice += 1\n",
    "```"
   ]
  },
  {
   "cell_type": "code",
   "execution_count": 8,
   "metadata": {},
   "outputs": [
    {
     "name": "stdout",
     "output_type": "stream",
     "text": [
      "0\n",
      "3\n",
      "6\n",
      "9\n",
      "12\n",
      "15\n",
      "18\n",
      "21\n",
      "24\n",
      "27\n",
      "30\n",
      "33\n",
      "36\n",
      "39\n",
      "42\n",
      "45\n",
      "48\n",
      "51\n",
      "54\n",
      "57\n",
      "60\n",
      "63\n",
      "66\n",
      "69\n",
      "72\n",
      "75\n",
      "78\n",
      "81\n",
      "84\n",
      "87\n",
      "90\n",
      "93\n",
      "96\n",
      "99\n"
     ]
    }
   ],
   "source": [
    "# Pruebe escribir un ciclo 'for' que muestre los números del 1 al 100, de 3 en 3:\n",
    "for ciclo in range(0, 100,3):\n",
    "    print(ciclo)"
   ]
  },
  {
   "cell_type": "code",
   "execution_count": 9,
   "metadata": {},
   "outputs": [],
   "source": [
    "# Pruebe escribir un ciclo 'while' que muestre los números del 150 al 350, de 7 en 7:\n",
    "indice = 150\n",
    "while indice > 351:\n",
    "    print(indice)\n",
    "    indice += 7"
   ]
  },
  {
   "cell_type": "markdown",
   "metadata": {},
   "source": [
    "# Listas\n",
    "\n",
    "Las listas son colecciones de elementos almacenados en una misma variables. No hay restricciones sobre el tipo de  elementos que se pueden guardar en una lista.\n",
    "```python\n",
    "# Listas vacías\n",
    "frutas = []\n",
    "mascotas = list()\n",
    "# Listas con datos\n",
    "nombres = ['Harold', 'Luisa', 'Carlos', 'Ernesto', 'Teresa', 'Ximena', 'Karen']\n",
    "# Listas con datos de diferentes tipos\n",
    "bolsillo = [50, True, 'celular', 10, 5, 5, 'llaves']\n",
    "# Una lista puede contener también otras listas\n",
    "config = ['#ff23bc', [10, 20, 30], True, ['', '//', '/*', '*/']]\n",
    "```\n",
    "\n",
    "Los elementos de una lista se pueden acceder de diferentes formas:\n",
    "```python\n",
    "nombres[0]    # primer elemento\n",
    "nombres[-1]   # último elemento\n",
    "nombres[:3]   # los 3 primeros elementos\n",
    "nombres[5:]   # desde el 6 elemento en adelante\n",
    "nombres[-3:]  # los 3 últimos elementos\n",
    "nombres[2:5]  # desde el 3er hasta el 5to elemento\n",
    "```\n",
    "\n",
    "Otras operaciones con las listas:\n",
    "```python\n",
    "nombres[3] = 'Sara'      # cambiar un elemento\n",
    "nombres.index('Sara')    # buscar la posición de un elemento\n",
    "'Sara' in nombres        # saber si el elemento está en la lista\n",
    "nombres.append('Pedro')  # adicionar un elemento a la lista (al final)\n",
    "nombres.insert(3, 'Maria')  # insertar un elemento en esa posición (desplaza los demás)\n",
    "nombres.sort()           # ordenar una lista\n",
    "len(nombres)             # obtener el tamaño de una lista (cantidad de elementos)\n",
    "```\n",
    "\n",
    "Nota: Aunque no son listas, los elementos de una Cadena se puede acceder de la misma forma que una lista."
   ]
  },
  {
   "cell_type": "markdown",
   "metadata": {},
   "source": [
    "## Recorrido de una lista\n",
    "\n",
    "Una forma de recorrido de una lista corresponde al estilo que utilizaría un programador con experiencia en otros lenguajes, y recien comienza con Python:\n",
    "\n",
    "```python\n",
    "frutas = ['Pera', 'Manzana', 'Naranja', 'Papaya', 'Piña', 'Banano', 'Maracuya', 'Uva', 'Melon']\n",
    "for idx in range(0, len(frutas)):\n",
    "    print(frutas[idx])\n",
    "```\n",
    "\n",
    "Por el contrario, este tipo de recorrido sigue el estilo Pythonista:\n",
    "```python\n",
    "for fruta in frutas:\n",
    "    print(fruta)\n",
    "```\n",
    "\n",
    "Si realmente es necesario el indice, también puede hacerse siguiendo el estilo Pythonista:\n",
    "```python\n",
    "for idx, fruta in enumerate(frutas):\n",
    "    print(f\"{idx}: {fruta}\")\n",
    "```"
   ]
  },
  {
   "cell_type": "code",
   "execution_count": 16,
   "metadata": {},
   "outputs": [],
   "source": [
    "## Pruebe crear una lista con 15 elementos, mezclando números, cadenas y booleanos\n",
    "config = ['#ff23bc', [10, 20, 30], True, ['', '//', '/', '/'],'Pera', True , 25 ,18 , 'Naranja', 'Papaya', False, 'Banano', 'Maracuya', 'Uva', 'Melon']"
   ]
  },
  {
   "cell_type": "code",
   "execution_count": 17,
   "metadata": {},
   "outputs": [
    {
     "name": "stdout",
     "output_type": "stream",
     "text": [
      "#ff23bc\n",
      "10\n",
      "True\n",
      "\n",
      "Pera\n",
      "True\n",
      "25\n",
      "18\n",
      "Naranja\n",
      "Papaya\n",
      "False\n",
      "Banano\n",
      "Maracuya\n",
      "Uva\n",
      "Melon\n"
     ]
    }
   ],
   "source": [
    "# Pruebe crear una lista con 15 elementos, mezclando números, cadenas y booleanos\n",
    "for c in config:\n",
    "    print(c[0] if type(c) is list else c)"
   ]
  },
  {
   "cell_type": "code",
   "execution_count": 18,
   "metadata": {},
   "outputs": [
    {
     "name": "stdout",
     "output_type": "stream",
     "text": [
      "30\n"
     ]
    }
   ],
   "source": [
    "print(config[1][-1])"
   ]
  },
  {
   "cell_type": "code",
   "execution_count": 19,
   "metadata": {},
   "outputs": [],
   "source": [
    "config = ['#ff23bc' , [10, 20, 30], True, ['', '//', '/*' '*/'], 'pera' , True , 25 ,18 , 'naranja', 'papaya' , False, 'banano']"
   ]
  },
  {
   "cell_type": "code",
   "execution_count": 20,
   "metadata": {},
   "outputs": [
    {
     "name": "stdout",
     "output_type": "stream",
     "text": [
      "#ff23bc\n",
      "banano\n",
      "['', '//', '/**/']\n",
      "[True, ['', '//', '/**/'], 'pera', True, 25, 18, 'naranja', 'papaya', False, 'banano']\n",
      "['#ff23bc', [10, 20, 30], True]\n",
      "['papaya', False, 'banano']\n",
      "[['', '//', '/**/'], 'pera', True]\n",
      "['#ff23bc', True, 'pera', 25, 'naranja', False]\n",
      "['banano', False, 'papaya', 'naranja', 18, 25, True, 'pera', ['', '//', '/**/'], True, [10, 20, 30], '#ff23bc']\n"
     ]
    }
   ],
   "source": [
    "# Pruebe el acceso a diferentes elementos de la lista anterior\n",
    "\n",
    "# Primer elemento\n",
    "print(config[0])\n",
    "# Último elemento\n",
    "print(config[-1])\n",
    "# El 4to\n",
    "print(config[3])\n",
    "# El 3ro de atrás hacia adelante\n",
    "print(config[2:])\n",
    "# Los 3 primeros\n",
    "print(config[:3])\n",
    "# Los 3 últimos\n",
    "print(config[-3:])\n",
    "# Del 4 al 7 elemento\n",
    "print(config[3:6])\n",
    "# Los elementos en posición par\n",
    "print(config[::2])\n",
    "# La lista en orden inverso\n",
    "print(config[::-1])"
   ]
  },
  {
   "cell_type": "code",
   "execution_count": 21,
   "metadata": {},
   "outputs": [
    {
     "name": "stdout",
     "output_type": "stream",
     "text": [
      "#ff23bc\n",
      "[10, 20, 30]\n",
      "True\n",
      "['', '//', '/**/']\n",
      "pera\n",
      "True\n",
      "25\n",
      "18\n",
      "naranja\n",
      "papaya\n",
      "False\n",
      "banano\n"
     ]
    }
   ],
   "source": [
    "# Pruebe recorrer la lista usando un while\n",
    "indice = 0\n",
    "while indice < len(config):\n",
    "    print(config[indice])\n",
    "    indice +=1"
   ]
  },
  {
   "cell_type": "code",
   "execution_count": 22,
   "metadata": {},
   "outputs": [
    {
     "name": "stdout",
     "output_type": "stream",
     "text": [
      "#ff23bc\n",
      "[10, 20, 30]\n",
      "True\n",
      "['', '//', '/**/']\n",
      "pera\n",
      "True\n",
      "25\n",
      "18\n",
      "naranja\n",
      "papaya\n",
      "False\n",
      "banano\n"
     ]
    }
   ],
   "source": [
    "# Pruebe recorrer la lista usando el estilo pythonista\n",
    "for element in config:\n",
    "    print(element)"
   ]
  },
  {
   "cell_type": "code",
   "execution_count": 23,
   "metadata": {},
   "outputs": [
    {
     "name": "stdout",
     "output_type": "stream",
     "text": [
      "0: banano\n",
      "1: banano\n",
      "2: banano\n",
      "3: banano\n",
      "4: banano\n",
      "5: banano\n",
      "6: banano\n",
      "7: banano\n",
      "8: banano\n",
      "9: banano\n",
      "10: banano\n",
      "11: banano\n"
     ]
    }
   ],
   "source": [
    "# Pruebe recorrer la lista usando un indice, pero con estilo pythonista\n",
    "for idx, elemnt in enumerate(config):\n",
    "    print(f\"{idx}: {element}\")"
   ]
  },
  {
   "cell_type": "code",
   "execution_count": 28,
   "metadata": {},
   "outputs": [
    {
     "name": "stdout",
     "output_type": "stream",
     "text": [
      "Manzana\n",
      "Maracuya\n",
      "Melon\n"
     ]
    }
   ],
   "source": [
    "# Pruebe recorrer la lista de frutas, y mostrar solo aquellas que comiencen por la letra 'M':\n",
    "frutas = ['Pera', 'Manzana', 'Naranja', 'Papaya', 'Piña', 'Banano', 'Maracuya', 'Uva', 'Melon']\n",
    "for fruta in frutas:\n",
    "    if fruta[0] == \"M\":\n",
    "        print(fruta)"
   ]
  },
  {
   "cell_type": "code",
   "execution_count": 25,
   "metadata": {},
   "outputs": [
    {
     "name": "stdout",
     "output_type": "stream",
     "text": [
      "[4, 6, 8, 10, 12]\n"
     ]
    }
   ],
   "source": [
    "# Pruebe recorrer la lista ciudades, creando otra lista con la longitud de cada nombre\n",
    "ciudades = ['Cali', 'Bogota', 'Medellin', 'Valledupar', 'Barranquilla']\n",
    "# Crear la lista longitud vacia\n",
    "longitud = []\n",
    "# Recorrer la lista ciudades\n",
    "for ciudad in ciudades:\n",
    "    longitud.append(len(ciudad))\n",
    "    # Adicionar la longitud de la ciudad a la lista\n",
    "\n",
    "# Mostrar el resultado\n",
    "print(longitud)"
   ]
  },
  {
   "cell_type": "code",
   "execution_count": 26,
   "metadata": {},
   "outputs": [
    {
     "name": "stdout",
     "output_type": "stream",
     "text": [
      "[4, 6, 8, 10, 12]\n"
     ]
    }
   ],
   "source": [
    "# Cree la misma lista longitud usando List-Comprehension\n",
    "longitud = [len(ciudad) for ciudad in ciudades]\n",
    "# Mostrar el resultado\n",
    "print(longitud)"
   ]
  },
  {
   "cell_type": "code",
   "execution_count": 27,
   "metadata": {},
   "outputs": [
    {
     "data": {
      "text/plain": [
       "[[0, 3, 5], [1, 4, 6], [2, 5, 7], [3, 6, 8], [4, 7, 9]]"
      ]
     },
     "execution_count": 27,
     "metadata": {},
     "output_type": "execute_result"
    }
   ],
   "source": [
    "# Ejemplo de un List-Comprehension anidado\n",
    "suma = [ [x, x + 3, x + 5] for x in range(0, 5) ]\n",
    "suma"
   ]
  },
  {
   "cell_type": "code",
   "execution_count": 12,
   "metadata": {},
   "outputs": [
    {
     "data": {
      "text/plain": [
       "{'a1': 1,\n",
       " 'a2': 2,\n",
       " 'a3': 3,\n",
       " 'a4': 4,\n",
       " 'a5': 5,\n",
       " 'b1': 1,\n",
       " 'b2': 2,\n",
       " 'b3': 3,\n",
       " 'b4': 4,\n",
       " 'b5': 5,\n",
       " 'c1': 1,\n",
       " 'c2': 2,\n",
       " 'c3': 3,\n",
       " 'c4': 4,\n",
       " 'c5': 5}"
      ]
     },
     "execution_count": 12,
     "metadata": {},
     "output_type": "execute_result"
    }
   ],
   "source": [
    "# El List-Comprehension también funciona con diccionarios -> Dict-Comprehension\n",
    "l = { x+str(y): y for x in ['a', 'b', 'c'] for y in range(1, 6) }\n",
    "l"
   ]
  },
  {
   "cell_type": "markdown",
   "metadata": {},
   "source": [
    "# Tuplas\n",
    "\n",
    "Las Tuplas pueden verse como Listas que nunca cambian (inmutables). Una ve definida la tupla, ni la cantidad de elementos, ni sus valores pueden ser modificados.\n",
    "\n",
    "```python\n",
    "# Tupla vacía\n",
    "vacia = ()\n",
    "# Tuplas con datos\n",
    "producto = ('Tennis', 'T-Shirt', 'S', True, 39999.00)\n",
    "colores = ('#ff0000', '#00ff00', '#0000ff', '#000000', '#ffffff')\n",
    "```\n",
    "\n",
    "Los elementos dela tupla se acceden igual que los de una lista:\n",
    "```python\n",
    "colores[0]    # primer elemento\n",
    "colores[-1]   # último elemento\n",
    "```\n",
    "\n",
    "Otras operaciones con las tuplas:\n",
    "```python\n",
    "len(colores)  # cantidad de elementos\n",
    "```"
   ]
  },
  {
   "cell_type": "code",
   "execution_count": null,
   "metadata": {},
   "outputs": [],
   "source": [
    "# Pruebe crear una tupla con los datos de una persona\n"
   ]
  },
  {
   "cell_type": "code",
   "execution_count": null,
   "metadata": {},
   "outputs": [],
   "source": [
    "# Pruebe el acceso a diferentes elementos de la tupla persona\n"
   ]
  },
  {
   "cell_type": "markdown",
   "metadata": {},
   "source": [
    "# Diccionarios\n",
    "\n",
    "Un Diccionario es una forma de almacenar información llave-valor. Cada llave es única (inmutable) y contiene un valor de cualquier tipo.\n",
    "\n",
    "```python\n",
    "# Diccionarios vacíos\n",
    "verbos = {}\n",
    "palabras = dict()\n",
    "# Diccionario con datos\n",
    "colores = {'rojo': '#ff0000', \n",
    "           'verde': '#00ff00', \n",
    "           'azul': '#0000ff', \n",
    "           'negro': '#ffffff', \n",
    "           'blanco': '#000000'}\n",
    "# Diccionario con datos de diferentes tipos\n",
    "config = {'usuario': 'sysadmin', \n",
    "          'password': {'type': 'MD5', 'hash': '6b59c3dc612a911322535551872a4d8c', 'activo': True},\n",
    "          'opciones': [1001, 1002, 1005, 1101, 1105, 1109, 1201, 1202, 1023], \n",
    "          'tema': 'default'}\n",
    "\n",
    "```\n",
    "\n",
    "Los elementos dela tupla se acceden igual que los de una lista:\n",
    "```python\n",
    "colores[0]      # primer elemento\n",
    "colores[-1]     # último elemento\n",
    "config['tema']  # devuelve 'default'\n",
    "config['password']['activo']  # devuelve True\n",
    "config['opciones'][:3]        # devuelve la lista [1001, 1002, 1005]\n",
    "```\n",
    "\n",
    "Otras operaciones con las tuplas:\n",
    "```python\n",
    "len(colores)  # cantidad de elementos\n",
    "```"
   ]
  },
  {
   "cell_type": "markdown",
   "metadata": {},
   "source": [
    "## Recorrido de un diccionario\n",
    "\n",
    "Hay varias formas de recorrer un diccionario, dependiendo de que vamos a utilizar como indice para dicho recorrido, `.keys()`, `.values()` o `.items()`.\n",
    "\n",
    "El primer tipo de recorrido es por llaves:\n",
    "```python\n",
    "for llave in colores.keys():\n",
    "    print(f\"{llave}: {colores[llave]}\")\n",
    "```\n",
    "\n",
    "El segundo tipo de recorrido es por valores:\n",
    "```python\n",
    "for valor in colores.values():\n",
    "    print(f\"{valor}\")\n",
    "```\n",
    "\n",
    "El tercer tipo de recorrido es por (llave, valor):\n",
    "```python\n",
    "for llave, valor in colores.items():\n",
    "    print(f\"{llave}, {valor}\")\n",
    "```"
   ]
  },
  {
   "cell_type": "code",
   "execution_count": null,
   "metadata": {},
   "outputs": [],
   "source": [
    "# Pruebe recorrer el diccionario de ciudades, usando las tres formas presentadas\n",
    "ciudades = {\n",
    "    'bogotá': {\n",
    "        'población': 8848588, 'ubicación': (4.6482837, -74.247895, 2640), 'temperatura': 13.0, 'superficie': 1775\n",
    "    },\n",
    "    'cali': {\n",
    "        'población': 2980169, 'ubicación': (3.3950619, -76.5957049, 1018), 'temperatura': 24.0, 'superficie': 564\n",
    "    },\n",
    "    'medellin': {\n",
    "        'población': 3921797, 'ubicación': (6.2441988, -75.6512524, 1495), 'temperatura': 21.3, 'superficie': 382\n",
    "    },\n",
    "    'barranquilla': {\n",
    "        'población': 2199507, 'ubicación': (10.9838039, -74.8880584, 18), 'temperatura': 27.4,'superficie': 154\n",
    "    },\n",
    "    'bucaramanga': {\n",
    "        'población': 1160472, 'ubicación': (7.1192047, -73.1679977, 162), 'temperatura': 23.0, 'superficie': 959\n",
    "    },\n",
    "}\n",
    "\n",
    "# Recorrido por llave, para mostrar la ciudad y la población\n",
    "\n",
    "# Recorrido por valores, calcular el promedio total de temperaturas\n",
    "\n",
    "# Recorrido por llave-valor, para mostrar la ciudad y la altitud\n"
   ]
  },
  {
   "cell_type": "code",
   "execution_count": null,
   "metadata": {},
   "outputs": [],
   "source": []
  }
 ],
 "metadata": {
  "kernelspec": {
   "display_name": "Python 3",
   "language": "python",
   "name": "python3"
  },
  "language_info": {
   "codemirror_mode": {
    "name": "ipython",
    "version": 3
   },
   "file_extension": ".py",
   "mimetype": "text/x-python",
   "name": "python",
   "nbconvert_exporter": "python",
   "pygments_lexer": "ipython3",
   "version": "3.8.8"
  }
 },
 "nbformat": 4,
 "nbformat_minor": 2
}
